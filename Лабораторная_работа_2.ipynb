{
  "nbformat": 4,
  "nbformat_minor": 0,
  "metadata": {
    "colab": {
      "provenance": [],
      "authorship_tag": "ABX9TyO1Eze04XX3o24xkR0wERFT",
      "include_colab_link": true
    },
    "kernelspec": {
      "name": "python3",
      "display_name": "Python 3"
    },
    "language_info": {
      "name": "python"
    }
  },
  "cells": [
    {
      "cell_type": "markdown",
      "metadata": {
        "id": "view-in-github",
        "colab_type": "text"
      },
      "source": [
        "<a href=\"https://colab.research.google.com/github/DanilChernov2006/work-space/blob/main/%D0%9B%D0%B0%D0%B1%D0%BE%D1%80%D0%B0%D1%82%D0%BE%D1%80%D0%BD%D0%B0%D1%8F_%D1%80%D0%B0%D0%B1%D0%BE%D1%82%D0%B0_2.ipynb\" target=\"_parent\"><img src=\"https://colab.research.google.com/assets/colab-badge.svg\" alt=\"Open In Colab\"/></a>"
      ]
    },
    {
      "cell_type": "code",
      "execution_count": null,
      "metadata": {
        "id": "JP_AR---dww5"
      },
      "outputs": [],
      "source": [
        "import numpy as np\n",
        "import pandas as pd\n",
        "from bokeh.layouts import gridplot\n",
        "from bokeh.plotting import figure, output_file, show\n",
        "from bokeh.io import output_notebook\n",
        "output_notebook()\n",
        "\n",
        "url = \"https://drive.google.com/uc?export=download&id=1zXIy8T1KICuXtcbzYCqAtXbYX-2ta2Mu\"\n",
        "Data = pd.read_csv(url,header=None)\n",
        "Data_matrix=Data.values\n",
        "\n",
        "Data_array = np.linspace(1,1000,1000)\n",
        "Light_array = np.linspace(1,1000,1000)\n",
        "for k in range(1000):\n",
        "  i = Data_matrix[k]\n",
        "  i = i.item()\n",
        "  Data_array[k] = i\n",
        "  if Data_array[k]<35:\n",
        "    Light_array[k] = 1\n",
        "  else:\n",
        "    Light_array[k] = 0\n",
        "\n",
        "p1 = figure()\n",
        "p1.line(np.arange(len(Data_matrix)), Data_array, color=\"blue\", line_width = 2)\n",
        "p2 = figure()\n",
        "p2.line(np.arange(len(Data_matrix)), Light_array, color=\"green\", line_width = 2)\n",
        "show(gridplot([p1, p2], ncols=1, width=1200, height=400))\n",
        "\n",
        "data_frame = pd.DataFrame(Light_array)\n",
        "data_frame.to_excel('Light_arrayt.xlsx', index = False, header = ['Light_array'])\n",
        "data_frame.to_csv('Light_array.csv', index = False, header = ['Light_array'])"
      ]
    },
    {
      "cell_type": "code",
      "source": [
        "import numpy as np\n",
        "import pandas as pd\n",
        "from bokeh.layouts import gridplot\n",
        "from bokeh.plotting import figure, output_file, show\n",
        "from bokeh.io import output_notebook\n",
        "output_notebook()\n",
        "\n",
        "url = \"https://drive.google.com/uc?export=download&id=1zXIy8T1KICuXtcbzYCqAtXbYX-2ta2Mu\"\n",
        "Data = pd.read_csv(url,header=None)\n",
        "Data.head()"
      ],
      "metadata": {
        "id": "MF0E9XXUd0by"
      },
      "execution_count": null,
      "outputs": []
    },
    {
      "cell_type": "code",
      "source": [
        "import numpy as np\n",
        "import pandas as pd\n",
        "from bokeh.layouts import gridplot\n",
        "from bokeh.plotting import figure, output_file, show\n",
        "from bokeh.io import output_notebook\n",
        "output_notebook()\n",
        "\n",
        "url = \"https://drive.google.com/uc?export=download&id=1zXIy8T1KICuXtcbzYCqAtXbYX-2ta2Mu\"\n",
        "Data = pd.read_csv(url,header=None)\n",
        "Data.tail()"
      ],
      "metadata": {
        "id": "mDdegONWd0lK"
      },
      "execution_count": null,
      "outputs": []
    }
  ]
}